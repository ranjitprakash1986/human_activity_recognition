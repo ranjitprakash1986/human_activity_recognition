{
 "cells": [
  {
   "cell_type": "markdown",
   "id": "08b369c4-1918-4943-9b2e-8d577dc23249",
   "metadata": {},
   "source": [
    "# Human Activity Recognition"
   ]
  },
  {
   "cell_type": "markdown",
   "id": "d808db40-fc29-48f6-8fd2-7c68951c71f4",
   "metadata": {},
   "source": [
    "## Exploratory Data Analysis"
   ]
  },
  {
   "cell_type": "markdown",
   "id": "f31a1090-e487-4e92-ab15-30b83f7e6bbd",
   "metadata": {},
   "source": [
    "**Future Improvements for this section**\n",
    "- Create a custom function for reading and creating the train and test dataframes from text data"
   ]
  },
  {
   "cell_type": "code",
   "execution_count": 95,
   "id": "09a96ab4-6a32-480f-85f5-d874fb455a5e",
   "metadata": {},
   "outputs": [],
   "source": [
    "# imports\n",
    "\n",
    "import numpy as np\n",
    "import pandas as pd\n",
    "import matplotlib.pyplot as plt"
   ]
  },
  {
   "cell_type": "code",
   "execution_count": 3,
   "id": "f73538e8-647a-4abe-8408-53df3168120f",
   "metadata": {},
   "outputs": [
    {
     "name": "stdout",
     "output_type": "stream",
     "text": [
      "No of Features: 561\n"
     ]
    }
   ],
   "source": [
    "# Reading the feature names from feature text file\n",
    "\n",
    "features = list()\n",
    "with open('../data/UCI_HAR_Dataset/features.txt') as f:\n",
    "    features = [line.split()[1] for line in f.readlines()]\n",
    "print('No of Features: {}'.format(len(features)))"
   ]
  },
  {
   "cell_type": "code",
   "execution_count": 14,
   "id": "21fb271f-7490-42e1-9680-9239404d4fa7",
   "metadata": {},
   "outputs": [
    {
     "data": {
      "text/plain": [
       "True"
      ]
     },
     "execution_count": 14,
     "metadata": {},
     "output_type": "execute_result"
    }
   ],
   "source": [
    "# checking if there are duplicate features in the list\n",
    "len(features) != len(set(features))"
   ]
  },
  {
   "cell_type": "code",
   "execution_count": 26,
   "id": "7525cf47-c515-4e19-9868-47dcf570cf21",
   "metadata": {},
   "outputs": [],
   "source": [
    "# finding the duplicates feature names\n",
    "# https://stackoverflow.com/questions/9835762/how-do-i-find-the-duplicates-in-a-list-and-create-another-list-with-them\n",
    "seen = set()\n",
    "dupes = []\n",
    "\n",
    "for x in features:\n",
    "    if x in seen:\n",
    "        dupes.append(x)\n",
    "    else:\n",
    "        seen.add(x)"
   ]
  },
  {
   "cell_type": "code",
   "execution_count": 27,
   "id": "badbc482-4604-4e77-9b38-9b5eb2a470f2",
   "metadata": {},
   "outputs": [
    {
     "data": {
      "text/plain": [
       "['fBodyAcc-bandsEnergy()-1,8',\n",
       " 'fBodyAcc-bandsEnergy()-9,16',\n",
       " 'fBodyAcc-bandsEnergy()-17,24',\n",
       " 'fBodyAcc-bandsEnergy()-25,32',\n",
       " 'fBodyAcc-bandsEnergy()-33,40',\n",
       " 'fBodyAcc-bandsEnergy()-41,48',\n",
       " 'fBodyAcc-bandsEnergy()-49,56',\n",
       " 'fBodyAcc-bandsEnergy()-57,64',\n",
       " 'fBodyAcc-bandsEnergy()-1,16',\n",
       " 'fBodyAcc-bandsEnergy()-17,32']"
      ]
     },
     "execution_count": 27,
     "metadata": {},
     "output_type": "execute_result"
    }
   ],
   "source": [
    "dupes[:10]"
   ]
  },
  {
   "cell_type": "markdown",
   "id": "bd7b0d13-d989-4bc5-aa2c-3eab410dfa1b",
   "metadata": {},
   "source": [
    "I will let Pandas generate new feature heading names for the duplicates since the data as such is not duplicate, only the labels are duplicated names"
   ]
  },
  {
   "cell_type": "code",
   "execution_count": 29,
   "id": "8c60437d-41fc-413a-94ea-a89f2759f779",
   "metadata": {},
   "outputs": [
    {
     "data": {
      "text/plain": [
       "(7351, 561)"
      ]
     },
     "execution_count": 29,
     "metadata": {},
     "output_type": "execute_result"
    }
   ],
   "source": [
    "# Getting the train data\n",
    "\n",
    "X_train = pd.read_csv('../data/UCI_HAR_dataset/train/X_train.txt', delim_whitespace=True, header=0)\n",
    "X_train.columns = features\n",
    "X_train.shape"
   ]
  },
  {
   "cell_type": "code",
   "execution_count": 30,
   "id": "930cd0ce-3eea-4d9e-a866-bcbc2d0cbea7",
   "metadata": {},
   "outputs": [
    {
     "data": {
      "text/html": [
       "<div>\n",
       "<style scoped>\n",
       "    .dataframe tbody tr th:only-of-type {\n",
       "        vertical-align: middle;\n",
       "    }\n",
       "\n",
       "    .dataframe tbody tr th {\n",
       "        vertical-align: top;\n",
       "    }\n",
       "\n",
       "    .dataframe thead th {\n",
       "        text-align: right;\n",
       "    }\n",
       "</style>\n",
       "<table border=\"1\" class=\"dataframe\">\n",
       "  <thead>\n",
       "    <tr style=\"text-align: right;\">\n",
       "      <th></th>\n",
       "      <th>tBodyAcc-mean()-X</th>\n",
       "      <th>tBodyAcc-mean()-Y</th>\n",
       "      <th>tBodyAcc-mean()-Z</th>\n",
       "      <th>tBodyAcc-std()-X</th>\n",
       "      <th>tBodyAcc-std()-Y</th>\n",
       "      <th>tBodyAcc-std()-Z</th>\n",
       "      <th>tBodyAcc-mad()-X</th>\n",
       "      <th>tBodyAcc-mad()-Y</th>\n",
       "      <th>tBodyAcc-mad()-Z</th>\n",
       "      <th>tBodyAcc-max()-X</th>\n",
       "      <th>...</th>\n",
       "      <th>fBodyBodyGyroJerkMag-meanFreq()</th>\n",
       "      <th>fBodyBodyGyroJerkMag-skewness()</th>\n",
       "      <th>fBodyBodyGyroJerkMag-kurtosis()</th>\n",
       "      <th>angle(tBodyAccMean,gravity)</th>\n",
       "      <th>angle(tBodyAccJerkMean),gravityMean)</th>\n",
       "      <th>angle(tBodyGyroMean,gravityMean)</th>\n",
       "      <th>angle(tBodyGyroJerkMean,gravityMean)</th>\n",
       "      <th>angle(X,gravityMean)</th>\n",
       "      <th>angle(Y,gravityMean)</th>\n",
       "      <th>angle(Z,gravityMean)</th>\n",
       "    </tr>\n",
       "  </thead>\n",
       "  <tbody>\n",
       "    <tr>\n",
       "      <th>0</th>\n",
       "      <td>0.278419</td>\n",
       "      <td>-0.016411</td>\n",
       "      <td>-0.123520</td>\n",
       "      <td>-0.998245</td>\n",
       "      <td>-0.975300</td>\n",
       "      <td>-0.960322</td>\n",
       "      <td>-0.998807</td>\n",
       "      <td>-0.974914</td>\n",
       "      <td>-0.957686</td>\n",
       "      <td>-0.943068</td>\n",
       "      <td>...</td>\n",
       "      <td>0.158075</td>\n",
       "      <td>-0.595051</td>\n",
       "      <td>-0.861499</td>\n",
       "      <td>0.053477</td>\n",
       "      <td>-0.007435</td>\n",
       "      <td>-0.732626</td>\n",
       "      <td>0.703511</td>\n",
       "      <td>-0.844788</td>\n",
       "      <td>0.180289</td>\n",
       "      <td>-0.054317</td>\n",
       "    </tr>\n",
       "    <tr>\n",
       "      <th>1</th>\n",
       "      <td>0.279653</td>\n",
       "      <td>-0.019467</td>\n",
       "      <td>-0.113462</td>\n",
       "      <td>-0.995380</td>\n",
       "      <td>-0.967187</td>\n",
       "      <td>-0.978944</td>\n",
       "      <td>-0.996520</td>\n",
       "      <td>-0.963668</td>\n",
       "      <td>-0.977469</td>\n",
       "      <td>-0.938692</td>\n",
       "      <td>...</td>\n",
       "      <td>0.414503</td>\n",
       "      <td>-0.390748</td>\n",
       "      <td>-0.760104</td>\n",
       "      <td>-0.118559</td>\n",
       "      <td>0.177899</td>\n",
       "      <td>0.100699</td>\n",
       "      <td>0.808529</td>\n",
       "      <td>-0.848933</td>\n",
       "      <td>0.180637</td>\n",
       "      <td>-0.049118</td>\n",
       "    </tr>\n",
       "    <tr>\n",
       "      <th>2</th>\n",
       "      <td>0.279174</td>\n",
       "      <td>-0.026201</td>\n",
       "      <td>-0.123283</td>\n",
       "      <td>-0.996091</td>\n",
       "      <td>-0.983403</td>\n",
       "      <td>-0.990675</td>\n",
       "      <td>-0.997099</td>\n",
       "      <td>-0.982750</td>\n",
       "      <td>-0.989302</td>\n",
       "      <td>-0.938692</td>\n",
       "      <td>...</td>\n",
       "      <td>0.404573</td>\n",
       "      <td>-0.117290</td>\n",
       "      <td>-0.482845</td>\n",
       "      <td>-0.036788</td>\n",
       "      <td>-0.012892</td>\n",
       "      <td>0.640011</td>\n",
       "      <td>-0.485366</td>\n",
       "      <td>-0.848649</td>\n",
       "      <td>0.181935</td>\n",
       "      <td>-0.047663</td>\n",
       "    </tr>\n",
       "    <tr>\n",
       "      <th>3</th>\n",
       "      <td>0.276629</td>\n",
       "      <td>-0.016570</td>\n",
       "      <td>-0.115362</td>\n",
       "      <td>-0.998139</td>\n",
       "      <td>-0.980817</td>\n",
       "      <td>-0.990482</td>\n",
       "      <td>-0.998321</td>\n",
       "      <td>-0.979672</td>\n",
       "      <td>-0.990441</td>\n",
       "      <td>-0.942469</td>\n",
       "      <td>...</td>\n",
       "      <td>0.087753</td>\n",
       "      <td>-0.351471</td>\n",
       "      <td>-0.699205</td>\n",
       "      <td>0.123320</td>\n",
       "      <td>0.122542</td>\n",
       "      <td>0.693578</td>\n",
       "      <td>-0.615971</td>\n",
       "      <td>-0.847865</td>\n",
       "      <td>0.185151</td>\n",
       "      <td>-0.043892</td>\n",
       "    </tr>\n",
       "    <tr>\n",
       "      <th>4</th>\n",
       "      <td>0.277199</td>\n",
       "      <td>-0.010098</td>\n",
       "      <td>-0.105137</td>\n",
       "      <td>-0.997335</td>\n",
       "      <td>-0.990487</td>\n",
       "      <td>-0.995420</td>\n",
       "      <td>-0.997627</td>\n",
       "      <td>-0.990218</td>\n",
       "      <td>-0.995549</td>\n",
       "      <td>-0.942469</td>\n",
       "      <td>...</td>\n",
       "      <td>0.019953</td>\n",
       "      <td>-0.545410</td>\n",
       "      <td>-0.844619</td>\n",
       "      <td>0.082632</td>\n",
       "      <td>-0.143439</td>\n",
       "      <td>0.275041</td>\n",
       "      <td>-0.368224</td>\n",
       "      <td>-0.849632</td>\n",
       "      <td>0.184823</td>\n",
       "      <td>-0.042126</td>\n",
       "    </tr>\n",
       "  </tbody>\n",
       "</table>\n",
       "<p>5 rows × 561 columns</p>\n",
       "</div>"
      ],
      "text/plain": [
       "   tBodyAcc-mean()-X  tBodyAcc-mean()-Y  tBodyAcc-mean()-Z  tBodyAcc-std()-X  \\\n",
       "0           0.278419          -0.016411          -0.123520         -0.998245   \n",
       "1           0.279653          -0.019467          -0.113462         -0.995380   \n",
       "2           0.279174          -0.026201          -0.123283         -0.996091   \n",
       "3           0.276629          -0.016570          -0.115362         -0.998139   \n",
       "4           0.277199          -0.010098          -0.105137         -0.997335   \n",
       "\n",
       "   tBodyAcc-std()-Y  tBodyAcc-std()-Z  tBodyAcc-mad()-X  tBodyAcc-mad()-Y  \\\n",
       "0         -0.975300         -0.960322         -0.998807         -0.974914   \n",
       "1         -0.967187         -0.978944         -0.996520         -0.963668   \n",
       "2         -0.983403         -0.990675         -0.997099         -0.982750   \n",
       "3         -0.980817         -0.990482         -0.998321         -0.979672   \n",
       "4         -0.990487         -0.995420         -0.997627         -0.990218   \n",
       "\n",
       "   tBodyAcc-mad()-Z  tBodyAcc-max()-X  ...  fBodyBodyGyroJerkMag-meanFreq()  \\\n",
       "0         -0.957686         -0.943068  ...                         0.158075   \n",
       "1         -0.977469         -0.938692  ...                         0.414503   \n",
       "2         -0.989302         -0.938692  ...                         0.404573   \n",
       "3         -0.990441         -0.942469  ...                         0.087753   \n",
       "4         -0.995549         -0.942469  ...                         0.019953   \n",
       "\n",
       "   fBodyBodyGyroJerkMag-skewness()  fBodyBodyGyroJerkMag-kurtosis()  \\\n",
       "0                        -0.595051                        -0.861499   \n",
       "1                        -0.390748                        -0.760104   \n",
       "2                        -0.117290                        -0.482845   \n",
       "3                        -0.351471                        -0.699205   \n",
       "4                        -0.545410                        -0.844619   \n",
       "\n",
       "   angle(tBodyAccMean,gravity)  angle(tBodyAccJerkMean),gravityMean)  \\\n",
       "0                     0.053477                             -0.007435   \n",
       "1                    -0.118559                              0.177899   \n",
       "2                    -0.036788                             -0.012892   \n",
       "3                     0.123320                              0.122542   \n",
       "4                     0.082632                             -0.143439   \n",
       "\n",
       "   angle(tBodyGyroMean,gravityMean)  angle(tBodyGyroJerkMean,gravityMean)  \\\n",
       "0                         -0.732626                              0.703511   \n",
       "1                          0.100699                              0.808529   \n",
       "2                          0.640011                             -0.485366   \n",
       "3                          0.693578                             -0.615971   \n",
       "4                          0.275041                             -0.368224   \n",
       "\n",
       "   angle(X,gravityMean)  angle(Y,gravityMean)  angle(Z,gravityMean)  \n",
       "0             -0.844788              0.180289             -0.054317  \n",
       "1             -0.848933              0.180637             -0.049118  \n",
       "2             -0.848649              0.181935             -0.047663  \n",
       "3             -0.847865              0.185151             -0.043892  \n",
       "4             -0.849632              0.184823             -0.042126  \n",
       "\n",
       "[5 rows x 561 columns]"
      ]
     },
     "execution_count": 30,
     "metadata": {},
     "output_type": "execute_result"
    }
   ],
   "source": [
    "X_train.head()"
   ]
  },
  {
   "cell_type": "code",
   "execution_count": 33,
   "id": "983f8d91-162b-420f-b975-d09effa25a48",
   "metadata": {},
   "outputs": [],
   "source": [
    "# Getting the subject (Person under study data) as a new column to the train dataset\n",
    "\n",
    "X_train['subject'] = pd.read_csv('../data/UCI_HAR_dataset/train/subject_train.txt', header = None)"
   ]
  },
  {
   "cell_type": "code",
   "execution_count": 36,
   "id": "93fe73c5-ec71-471e-9d33-7391b10edb13",
   "metadata": {},
   "outputs": [],
   "source": [
    "# Adding the y train data\n",
    "\n",
    "y_train = pd.read_csv('../data/UCI_HAR_dataset/train/y_train.txt', names=['Activity'])"
   ]
  },
  {
   "cell_type": "code",
   "execution_count": 64,
   "id": "fe96b4e2-2a8f-4b13-80e5-61c5f794745c",
   "metadata": {},
   "outputs": [],
   "source": [
    "# Create the dictionary of the y_train activity data\n",
    "\n",
    "activity_dictionary = {1: 'WALKING', 2:'WALKING_UPSTAIRS',3:'WALKING_DOWNSTAIRS',\\\n",
    "                       4:'SITTING', 5:'STANDING',6:'LAYING'}\n",
    "y_train_labels = [activity_dictionary[x] for x in y_train.squeeze().values]"
   ]
  },
  {
   "cell_type": "code",
   "execution_count": 70,
   "id": "d2ae8cc3-0892-4bad-8d2a-56993a478276",
   "metadata": {},
   "outputs": [
    {
     "data": {
      "text/plain": [
       "0       5\n",
       "1       5\n",
       "2       5\n",
       "3       5\n",
       "4       5\n",
       "       ..\n",
       "7347    2\n",
       "7348    2\n",
       "7349    2\n",
       "7350    2\n",
       "7351    2\n",
       "Name: Activity, Length: 7352, dtype: int64"
      ]
     },
     "execution_count": 70,
     "metadata": {},
     "output_type": "execute_result"
    }
   ],
   "source": [
    "y_train.squeeze()"
   ]
  },
  {
   "cell_type": "code",
   "execution_count": 71,
   "id": "5343eebc-8136-4a3e-96ad-6cdeccc801db",
   "metadata": {},
   "outputs": [
    {
     "data": {
      "text/html": [
       "<div>\n",
       "<style scoped>\n",
       "    .dataframe tbody tr th:only-of-type {\n",
       "        vertical-align: middle;\n",
       "    }\n",
       "\n",
       "    .dataframe tbody tr th {\n",
       "        vertical-align: top;\n",
       "    }\n",
       "\n",
       "    .dataframe thead th {\n",
       "        text-align: right;\n",
       "    }\n",
       "</style>\n",
       "<table border=\"1\" class=\"dataframe\">\n",
       "  <thead>\n",
       "    <tr style=\"text-align: right;\">\n",
       "      <th></th>\n",
       "      <th>tBodyAcc-mean()-X</th>\n",
       "      <th>tBodyAcc-mean()-Y</th>\n",
       "      <th>tBodyAcc-mean()-Z</th>\n",
       "      <th>tBodyAcc-std()-X</th>\n",
       "      <th>tBodyAcc-std()-Y</th>\n",
       "      <th>tBodyAcc-std()-Z</th>\n",
       "      <th>tBodyAcc-mad()-X</th>\n",
       "      <th>tBodyAcc-mad()-Y</th>\n",
       "      <th>tBodyAcc-mad()-Z</th>\n",
       "      <th>tBodyAcc-max()-X</th>\n",
       "      <th>...</th>\n",
       "      <th>angle(tBodyAccMean,gravity)</th>\n",
       "      <th>angle(tBodyAccJerkMean),gravityMean)</th>\n",
       "      <th>angle(tBodyGyroMean,gravityMean)</th>\n",
       "      <th>angle(tBodyGyroJerkMean,gravityMean)</th>\n",
       "      <th>angle(X,gravityMean)</th>\n",
       "      <th>angle(Y,gravityMean)</th>\n",
       "      <th>angle(Z,gravityMean)</th>\n",
       "      <th>subject</th>\n",
       "      <th>Activity</th>\n",
       "      <th>ActivityName</th>\n",
       "    </tr>\n",
       "  </thead>\n",
       "  <tbody>\n",
       "    <tr>\n",
       "      <th>3285</th>\n",
       "      <td>0.27873</td>\n",
       "      <td>-0.015182</td>\n",
       "      <td>-0.10163</td>\n",
       "      <td>-0.998263</td>\n",
       "      <td>-0.991865</td>\n",
       "      <td>-0.99173</td>\n",
       "      <td>-0.998342</td>\n",
       "      <td>-0.990641</td>\n",
       "      <td>-0.991407</td>\n",
       "      <td>-0.941607</td>\n",
       "      <td>...</td>\n",
       "      <td>-0.015082</td>\n",
       "      <td>0.258109</td>\n",
       "      <td>-0.133621</td>\n",
       "      <td>0.137888</td>\n",
       "      <td>-0.86661</td>\n",
       "      <td>0.040049</td>\n",
       "      <td>0.096099</td>\n",
       "      <td>17</td>\n",
       "      <td>4</td>\n",
       "      <td>SITTING</td>\n",
       "    </tr>\n",
       "  </tbody>\n",
       "</table>\n",
       "<p>1 rows × 564 columns</p>\n",
       "</div>"
      ],
      "text/plain": [
       "      tBodyAcc-mean()-X  tBodyAcc-mean()-Y  tBodyAcc-mean()-Z  \\\n",
       "3285            0.27873          -0.015182           -0.10163   \n",
       "\n",
       "      tBodyAcc-std()-X  tBodyAcc-std()-Y  tBodyAcc-std()-Z  tBodyAcc-mad()-X  \\\n",
       "3285         -0.998263         -0.991865          -0.99173         -0.998342   \n",
       "\n",
       "      tBodyAcc-mad()-Y  tBodyAcc-mad()-Z  tBodyAcc-max()-X  ...  \\\n",
       "3285         -0.990641         -0.991407         -0.941607  ...   \n",
       "\n",
       "      angle(tBodyAccMean,gravity)  angle(tBodyAccJerkMean),gravityMean)  \\\n",
       "3285                    -0.015082                              0.258109   \n",
       "\n",
       "      angle(tBodyGyroMean,gravityMean)  angle(tBodyGyroJerkMean,gravityMean)  \\\n",
       "3285                         -0.133621                              0.137888   \n",
       "\n",
       "      angle(X,gravityMean)  angle(Y,gravityMean)  angle(Z,gravityMean)  \\\n",
       "3285              -0.86661              0.040049              0.096099   \n",
       "\n",
       "      subject  Activity  ActivityName  \n",
       "3285       17         4       SITTING  \n",
       "\n",
       "[1 rows x 564 columns]"
      ]
     },
     "execution_count": 71,
     "metadata": {},
     "output_type": "execute_result"
    }
   ],
   "source": [
    "# Adding the information to the train dataframe\n",
    "\n",
    "train = X_train\n",
    "train['Activity'] = y_train.squeeze()\n",
    "train['ActivityName'] = pd.Series(y_train_labels)\n",
    "train.sample()"
   ]
  },
  {
   "cell_type": "code",
   "execution_count": 72,
   "id": "37485145-f551-4b82-b8f2-98a11be67a2f",
   "metadata": {},
   "outputs": [
    {
     "data": {
      "text/plain": [
       "(2946, 561)"
      ]
     },
     "execution_count": 72,
     "metadata": {},
     "output_type": "execute_result"
    }
   ],
   "source": [
    "# Perform the above operations for the test data\n",
    "\n",
    "X_test = pd.read_csv('../data/UCI_HAR_dataset/test/X_test.txt', delim_whitespace=True, header=0)\n",
    "X_test.columns = features\n",
    "X_test.shape"
   ]
  },
  {
   "cell_type": "code",
   "execution_count": 74,
   "id": "71e17141-2c24-4e3a-8abf-480ddddfe913",
   "metadata": {},
   "outputs": [],
   "source": [
    "\n",
    "X_test['subject'] = pd.read_csv('../data/UCI_HAR_dataset/test/subject_test.txt', header = None)\n",
    "y_test = pd.read_csv('../data/UCI_HAR_dataset/test/y_test.txt', names=['Activity'])\n",
    "y_test_labels = [activity_dictionary[x] for x in y_test.squeeze().values]\n"
   ]
  },
  {
   "cell_type": "code",
   "execution_count": 75,
   "id": "c8e59b44-ce7a-4197-831f-78ede33606dd",
   "metadata": {},
   "outputs": [
    {
     "data": {
      "text/html": [
       "<div>\n",
       "<style scoped>\n",
       "    .dataframe tbody tr th:only-of-type {\n",
       "        vertical-align: middle;\n",
       "    }\n",
       "\n",
       "    .dataframe tbody tr th {\n",
       "        vertical-align: top;\n",
       "    }\n",
       "\n",
       "    .dataframe thead th {\n",
       "        text-align: right;\n",
       "    }\n",
       "</style>\n",
       "<table border=\"1\" class=\"dataframe\">\n",
       "  <thead>\n",
       "    <tr style=\"text-align: right;\">\n",
       "      <th></th>\n",
       "      <th>tBodyAcc-mean()-X</th>\n",
       "      <th>tBodyAcc-mean()-Y</th>\n",
       "      <th>tBodyAcc-mean()-Z</th>\n",
       "      <th>tBodyAcc-std()-X</th>\n",
       "      <th>tBodyAcc-std()-Y</th>\n",
       "      <th>tBodyAcc-std()-Z</th>\n",
       "      <th>tBodyAcc-mad()-X</th>\n",
       "      <th>tBodyAcc-mad()-Y</th>\n",
       "      <th>tBodyAcc-mad()-Z</th>\n",
       "      <th>tBodyAcc-max()-X</th>\n",
       "      <th>...</th>\n",
       "      <th>angle(tBodyAccMean,gravity)</th>\n",
       "      <th>angle(tBodyAccJerkMean),gravityMean)</th>\n",
       "      <th>angle(tBodyGyroMean,gravityMean)</th>\n",
       "      <th>angle(tBodyGyroJerkMean,gravityMean)</th>\n",
       "      <th>angle(X,gravityMean)</th>\n",
       "      <th>angle(Y,gravityMean)</th>\n",
       "      <th>angle(Z,gravityMean)</th>\n",
       "      <th>subject</th>\n",
       "      <th>Activity</th>\n",
       "      <th>ActivityName</th>\n",
       "    </tr>\n",
       "  </thead>\n",
       "  <tbody>\n",
       "    <tr>\n",
       "      <th>2122</th>\n",
       "      <td>0.268451</td>\n",
       "      <td>-0.0183</td>\n",
       "      <td>-0.105905</td>\n",
       "      <td>-0.981014</td>\n",
       "      <td>-0.978761</td>\n",
       "      <td>-0.987595</td>\n",
       "      <td>-0.982336</td>\n",
       "      <td>-0.977646</td>\n",
       "      <td>-0.988867</td>\n",
       "      <td>-0.924599</td>\n",
       "      <td>...</td>\n",
       "      <td>0.016157</td>\n",
       "      <td>0.112434</td>\n",
       "      <td>0.056465</td>\n",
       "      <td>0.416371</td>\n",
       "      <td>0.400846</td>\n",
       "      <td>-0.305401</td>\n",
       "      <td>-0.681752</td>\n",
       "      <td>18</td>\n",
       "      <td>6</td>\n",
       "      <td>LAYING</td>\n",
       "    </tr>\n",
       "  </tbody>\n",
       "</table>\n",
       "<p>1 rows × 564 columns</p>\n",
       "</div>"
      ],
      "text/plain": [
       "      tBodyAcc-mean()-X  tBodyAcc-mean()-Y  tBodyAcc-mean()-Z  \\\n",
       "2122           0.268451            -0.0183          -0.105905   \n",
       "\n",
       "      tBodyAcc-std()-X  tBodyAcc-std()-Y  tBodyAcc-std()-Z  tBodyAcc-mad()-X  \\\n",
       "2122         -0.981014         -0.978761         -0.987595         -0.982336   \n",
       "\n",
       "      tBodyAcc-mad()-Y  tBodyAcc-mad()-Z  tBodyAcc-max()-X  ...  \\\n",
       "2122         -0.977646         -0.988867         -0.924599  ...   \n",
       "\n",
       "      angle(tBodyAccMean,gravity)  angle(tBodyAccJerkMean),gravityMean)  \\\n",
       "2122                     0.016157                              0.112434   \n",
       "\n",
       "      angle(tBodyGyroMean,gravityMean)  angle(tBodyGyroJerkMean,gravityMean)  \\\n",
       "2122                          0.056465                              0.416371   \n",
       "\n",
       "      angle(X,gravityMean)  angle(Y,gravityMean)  angle(Z,gravityMean)  \\\n",
       "2122              0.400846             -0.305401             -0.681752   \n",
       "\n",
       "      subject  Activity  ActivityName  \n",
       "2122       18         6        LAYING  \n",
       "\n",
       "[1 rows x 564 columns]"
      ]
     },
     "execution_count": 75,
     "metadata": {},
     "output_type": "execute_result"
    }
   ],
   "source": [
    "# Adding the information to the test dataframe\n",
    "\n",
    "test = X_test\n",
    "test['Activity'] = y_test.squeeze()\n",
    "test['ActivityName'] = pd.Series(y_test_labels)\n",
    "test.sample()"
   ]
  },
  {
   "cell_type": "code",
   "execution_count": null,
   "id": "921be1d8-94b2-4428-bcb0-d65c26a1b939",
   "metadata": {},
   "outputs": [],
   "source": []
  },
  {
   "cell_type": "markdown",
   "id": "a8b0a442-974d-45ea-bb15-0f53a8ec45f3",
   "metadata": {},
   "source": [
    "## Data Cleaning"
   ]
  },
  {
   "cell_type": "code",
   "execution_count": 94,
   "id": "ca83bcab-5dc5-48b5-a349-f9b1f187781e",
   "metadata": {},
   "outputs": [
    {
     "name": "stdout",
     "output_type": "stream",
     "text": [
      "train data number of duplicates, 0\n",
      "test data number of duplicates, 0\n",
      "train data number of null or Nan, 0\n",
      "test data number of null or Nan, 0\n"
     ]
    }
   ],
   "source": [
    "# Checking if any rows are duplicates\n",
    "print(f'train data number of duplicates, {sum(train.duplicated())}')\n",
    "print(f'test data number of duplicates, {sum(test.duplicated())}')\n",
    "\n",
    "# Checking for Null or Nan values in train and test data\n",
    "print(f'train data number of null or Nan, {train.isnull().values.sum()}')\n",
    "print(f'test data number of null or Nan, {test.isnull().values.sum()}')"
   ]
  },
  {
   "cell_type": "code",
   "execution_count": null,
   "id": "388b7401-9ed7-446e-9189-c41fee3774cb",
   "metadata": {},
   "outputs": [],
   "source": []
  },
  {
   "cell_type": "markdown",
   "id": "bc8ad1f4-771d-4c87-bbba-749074d298bb",
   "metadata": {},
   "source": [
    "## Data Count"
   ]
  },
  {
   "cell_type": "code",
   "execution_count": 145,
   "id": "36ef7868-d9e3-4b85-adc2-74525b5eac35",
   "metadata": {},
   "outputs": [],
   "source": [
    "def data_count_plot(df, colname):\n",
    "    data_bygroup = df.groupby([colname]).size()\n",
    "\n",
    "    plt.barh(data_bygroup.index, data_bygroup.values)\n",
    "    plt.ylabel(colname)\n",
    "    plt.xlabel(\"Counts\")\n",
    "    plt.title(f\"DataCount in dataset\")\n",
    "    plt.show()\n",
    "\n",
    "    "
   ]
  },
  {
   "cell_type": "code",
   "execution_count": 146,
   "id": "d713e7c0-0b2d-4664-b8be-05256413af5d",
   "metadata": {},
   "outputs": [
    {
     "data": {
      "image/png": "[encoded data removed]",
      "text/plain": [
       "<Figure size 640x480 with 1 Axes>"
      ]
     },
     "metadata": {},
     "output_type": "display_data"
    }
   ],
   "source": [
    "# Seeing the datacount in train dataframe\n",
    "\n",
    "data_count_plot(train, \"ActivityName\")"
   ]
  },
  {
   "cell_type": "code",
   "execution_count": 147,
   "id": "2c63db94-fae4-489d-85fa-66b36451def0",
   "metadata": {},
   "outputs": [
    {
     "data": {
      "image/png": "[encoded data removed]",
      "text/plain": [
       "<Figure size 640x480 with 1 Axes>"
      ]
     },
     "metadata": {},
     "output_type": "display_data"
    }
   ],
   "source": [
    "# Seeing the datacount in test dataframe\n",
    "\n",
    "data_count_plot(test, \"ActivityName\")"
   ]
  },
  {
   "cell_type": "code",
   "execution_count": null,
   "id": "deb6a5c0-827d-485d-adce-4d69cbc51171",
   "metadata": {},
   "outputs": [],
   "source": []
  }
 ],
 "metadata": {
  "kernelspec": {
   "display_name": "Python [conda env:aaic]",
   "language": "python",
   "name": "conda-env-aaic-py"
  },
  "language_info": {
   "codemirror_mode": {
    "name": "ipython",
    "version": 3
   },
   "file_extension": ".py",
   "mimetype": "text/x-python",
   "name": "python",
   "nbconvert_exporter": "python",
   "pygments_lexer": "ipython3",
   "version": "3.9.12"
  }
 },
 "nbformat": 4,
 "nbformat_minor": 5
}
